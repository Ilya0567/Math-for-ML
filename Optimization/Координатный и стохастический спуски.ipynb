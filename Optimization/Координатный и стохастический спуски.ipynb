{
  "cells": [
    {
      "cell_type": "markdown",
      "metadata": {
        "id": "NyHIGVhfa_Wf"
      },
      "source": [
        "# Стохастический градиентный и координатный спуски"
      ]
    },
    {
      "cell_type": "markdown",
      "metadata": {
        "id": "gn6lluIADUKa"
      },
      "source": [
        "Для каждого задания указано количество баллов (если они оцениваются отдельно) + 1 балл за аккуратное и полное выполнение всего задания"
      ]
    },
    {
      "cell_type": "markdown",
      "metadata": {
        "id": "txCccYvha_Wv"
      },
      "source": [
        "## Загрузка и подготовка данных"
      ]
    },
    {
      "cell_type": "markdown",
      "metadata": {
        "id": "NbyOzeZ6a_Wx"
      },
      "source": [
        "**Загрузите уже знакомый вам файл *Advertising.csv* как объект DataFrame.** "
      ]
    },
    {
      "cell_type": "code",
      "execution_count": 203,
      "metadata": {
        "id": "E1L4_xeDa_Wz"
      },
      "outputs": [],
      "source": [
        "#ваш код\n",
        "import pandas as pd\n",
        "import numpy as np\n",
        "df = pd.read_csv(\"data/Advertising.csv\")"
      ]
    },
    {
      "cell_type": "markdown",
      "metadata": {
        "id": "bf4aVFndDUKf"
      },
      "source": [
        "**Проверьте, есть ли в данных пропуски и, если они есть - удалите их**"
      ]
    },
    {
      "cell_type": "code",
      "execution_count": 204,
      "metadata": {
        "id": "tiVeFnR5DUKg"
      },
      "outputs": [
        {
          "data": {
            "text/plain": [
              "Unnamed: 0    0\n",
              "TV            0\n",
              "radio         0\n",
              "newspaper     0\n",
              "sales         0\n",
              "dtype: int64"
            ]
          },
          "execution_count": 204,
          "metadata": {},
          "output_type": "execute_result"
        }
      ],
      "source": [
        "#ваш код\n",
        "df.isnull().sum()\n",
        "# видим, что пропусков нет"
      ]
    },
    {
      "cell_type": "markdown",
      "metadata": {
        "id": "rTkiqPr_DUKh"
      },
      "source": [
        "**Преобразуйте ваши признаки в массивы NumPy и разделите их на переменные X (предикторы) и y(целевая переменная)** "
      ]
    },
    {
      "cell_type": "code",
      "execution_count": 205,
      "metadata": {
        "id": "R9OHIRB3a_Xa"
      },
      "outputs": [],
      "source": [
        "#ваш код\n",
        "X = df.iloc[:, 1 : 4].to_numpy()\n",
        "y = df.iloc[:, 4].to_numpy().reshape(-1, 1)\n"
      ]
    },
    {
      "cell_type": "markdown",
      "metadata": {
        "id": "KCvjSoHEDUKo"
      },
      "source": [
        "## Координатный спуск (3 балла)"
      ]
    },
    {
      "cell_type": "markdown",
      "metadata": {
        "id": "yjNm8dATDUKq"
      },
      "source": [
        "**Добавим единичный столбец для того, чтобы у нас был свободный коэффициент в уравнении регрессии:**"
      ]
    },
    {
      "cell_type": "code",
      "execution_count": 206,
      "metadata": {
        "id": "LMgq0fmKDUKr"
      },
      "outputs": [],
      "source": [
        "import numpy as np\n",
        "X = np.hstack([np.ones(X.shape[0]).reshape(-1, 1), X])"
      ]
    },
    {
      "cell_type": "markdown",
      "metadata": {
        "id": "R008OQwcDUKt"
      },
      "source": [
        "**Нормализуем данные: обычно это необходимо для корректной работы алгоритма**"
      ]
    },
    {
      "cell_type": "code",
      "execution_count": 207,
      "metadata": {
        "id": "2Sk7Wx-SDUKt"
      },
      "outputs": [],
      "source": [
        "X = X / np.sqrt(np.sum(np.square(X), axis=0))\n"
      ]
    },
    {
      "cell_type": "markdown",
      "metadata": {
        "id": "F_pHHbAdDUKu"
      },
      "source": [
        "**Реализуйте алгоритм координатного спуска:** (3 балла)\n",
        "\n",
        "Ниже приведен алгоритм:"
      ]
    },
    {
      "cell_type": "markdown",
      "metadata": {
        "id": "jBQ8vT5UDUKu"
      },
      "source": [
        "<a href=\"https://ibb.co/Th3BQFn\"><img src=\"https://i.ibb.co/DK2DBS6/zascas.jpg\" alt=\"zascas\" border=\"0\"></a>"
      ]
    },
    {
      "cell_type": "markdown",
      "metadata": {
        "id": "5ce_yM20DUKv"
      },
      "source": [
        "Примечание: 1000 итераций здесь указаны для этого задания, на самом деле их может быть намного больше, нет детерменированного значения."
      ]
    },
    {
      "cell_type": "markdown",
      "metadata": {
        "id": "y3IdiHm9DUKv"
      },
      "source": [
        "Вам необходимо реализовать координатный спуск, и вывести веса в модели линейной регрессии."
      ]
    },
    {
      "cell_type": "code",
      "execution_count": 218,
      "metadata": {
        "id": "Vsi3d9OfDUKw"
      },
      "outputs": [
        {
          "name": "stdout",
          "output_type": "stream",
          "text": [
            "Коэффициенты модели: [149.97524029  25.34470809  15.58270302  10.00276896]\n"
          ]
        }
      ],
      "source": [
        "import numpy as np\n",
        "\n",
        "def fit_linear_regression(X, y, learning_rate=0.01, tol=1e-3, max_iter=1000):\n",
        "    n_samples, n_features = X.shape\n",
        "    coefficients = np.zeros(n_features)  # коэффициенты без учета сдвига\n",
        "\n",
        "    # Итерационный процесс обучения\n",
        "    for _ in range(max_iter):\n",
        "        coef_prev = np.copy(coefficients)\n",
        "        # Обновляем коэффициенты для каждого признака\n",
        "        for j in range(n_features):\n",
        "            gradient = calculate_gradient(X, y, coefficients, j)\n",
        "            coefficients[j] -= learning_rate * gradient\n",
        "\n",
        "        # Проверяем критерий остановки\n",
        "        if np.linalg.norm(coefficients - coef_prev) < tol:\n",
        "            break\n",
        "\n",
        "    return coefficients\n",
        "\n",
        "def calculate_gradient(X, y, coefficients, j):\n",
        "    n_samples = X.shape[0]\n",
        "    predictions = np.dot(X, coefficients)\n",
        "    errors = predictions - y\n",
        "    # Вычисляем градиент для j-го коэффициента\n",
        "    gradient = np.sum(X[:, j] * errors) / n_samples\n",
        "    return gradient\n",
        "\n",
        "\n",
        "# Обучаем модель\n",
        "coefficients = fit_linear_regression(X, y)\n",
        "\n",
        "# Выводим коэффициенты\n",
        "print(\"Коэффициенты модели:\", coefficients)\n"
      ]
    },
    {
      "cell_type": "markdown",
      "metadata": {
        "id": "a3jG-7UADUKx"
      },
      "source": [
        "Сравните результаты с реализацией линейной регрессии из библиотеки sklearn:"
      ]
    },
    {
      "cell_type": "code",
      "execution_count": 220,
      "metadata": {
        "id": "SBl-1Yb5DUKy"
      },
      "outputs": [
        {
          "name": "stdout",
          "output_type": "stream",
          "text": [
            "[[ 41.56217205 110.13144155  73.52860638  -0.55006384]]\n"
          ]
        }
      ],
      "source": [
        "from sklearn.linear_model import LinearRegression\n",
        " \n",
        "model = LinearRegression(fit_intercept=False)\n",
        "model.fit(X, y)\n",
        " \n",
        "print(model.coef_)\n"
      ]
    },
    {
      "cell_type": "markdown",
      "metadata": {
        "id": "hIl0AGLyDUKy"
      },
      "source": [
        "Если вы все сделали верно, они должны практически совпасть!\n",
        "\n",
        "У меня не сошлось("
      ]
    },
    {
      "cell_type": "markdown",
      "metadata": {
        "id": "VCGwFnPdDUKz"
      },
      "source": [
        "## Стохастический градиентный спуск (6 баллов)"
      ]
    },
    {
      "cell_type": "markdown",
      "metadata": {
        "id": "5u7Q2YJla_Xk"
      },
      "source": [
        "**Отмасштабируйте столбцы исходной матрицы *X* (которую мы не нормализовали еще!). Для того, чтобы это сделать, надо вычесть из каждого значения среднее и разделить на стандартное отклонение** (0.5 баллов)"
      ]
    },
    {
      "cell_type": "code",
      "execution_count": 222,
      "metadata": {
        "id": "9cEpV_5La_Xo"
      },
      "outputs": [],
      "source": [
        "#ваш код\n",
        "X = df.iloc[:, 1 : 4].to_numpy()\n",
        "\n",
        "# Считаем среднее значение и стандартное отклонение по каждому столбцу\n",
        "mean = np.mean(X, axis=0)\n",
        "std_dev = np.std(X, axis=0)\n",
        "\n",
        "# Стандартизируем данные\n",
        "standardized_data = (X - mean) / std_dev\n"
      ]
    },
    {
      "cell_type": "markdown",
      "metadata": {
        "id": "8WkNYILHDUK1"
      },
      "source": [
        "**Добавим единичный столбец**"
      ]
    },
    {
      "cell_type": "code",
      "execution_count": 223,
      "metadata": {
        "id": "EVl5tEGtDUK1"
      },
      "outputs": [],
      "source": [
        "X = np.hstack([np.ones(X.shape[0]).reshape(-1, 1), X])"
      ]
    },
    {
      "cell_type": "markdown",
      "metadata": {
        "id": "m53tZA5fDUK1"
      },
      "source": [
        "**Создайте функцию mse_error для вычисления среднеквадратичной ошибки, принимающую два аргумента: реальные значения и предсказывающие, и возвращающую значение mse** (0.5 балла)"
      ]
    },
    {
      "cell_type": "code",
      "execution_count": 224,
      "metadata": {
        "id": "0cvtC08Aa_YK"
      },
      "outputs": [],
      "source": [
        "def mse_error(actual, predicted):\n",
        "  \n",
        "    # Вычисляем MSE\n",
        "    mse = np.mean((np.array(actual) - np.array(predicted))**2)\n",
        "    \n",
        "    return mse"
      ]
    },
    {
      "cell_type": "markdown",
      "metadata": {
        "id": "lpOLhdvBDUK2"
      },
      "source": [
        "**Сделайте наивный прогноз: предскажите продажи средним значением. После этого рассчитайте среднеквадратичную ошибку для этого прогноза** (0.5 балла)"
      ]
    },
    {
      "cell_type": "code",
      "execution_count": 225,
      "metadata": {
        "id": "kLV_XljVa_YZ"
      },
      "outputs": [
        {
          "name": "stdout",
          "output_type": "stream",
          "text": [
            "Среднеквадратичная ошибка для наивного прогноза: 27.085743750000002\n"
          ]
        }
      ],
      "source": [
        "#ваш код\n",
        "def naive_mean_sales_prediction(sales):\n",
        "    \n",
        "    # Вычисляем среднее значение продаж\n",
        "    mean_sales = np.mean(sales)\n",
        "    \n",
        "    # Создаем массив предсказанных значений, где каждое значение равно среднему значению продаж\n",
        "    predicted_sales = np.full_like(sales, mean_sales)\n",
        "    \n",
        "    return predicted_sales\n",
        "\n",
        "\n",
        "naive_predicted_sales = naive_mean_sales_prediction(y)\n",
        "\n",
        "# Вычисляем среднеквадратичную ошибку для наивного прогноза\n",
        "mse_naive = mse_error(y, naive_predicted_sales)\n",
        "print(\"Среднеквадратичная ошибка для наивного прогноза:\", mse_naive)\n"
      ]
    },
    {
      "cell_type": "markdown",
      "metadata": {
        "id": "BbybL2ola_ZM"
      },
      "source": [
        "**Создайте функцию *lin_pred*, которая может по матрице предикторов *X* и вектору весов линейной модели *w* получить вектор прогнозов** (0.5 балла)"
      ]
    },
    {
      "cell_type": "code",
      "execution_count": 226,
      "metadata": {
        "id": "1Cyz-Luaa_ZO"
      },
      "outputs": [],
      "source": [
        "#ваш код\n",
        "def lin_pred(X, w):\n",
        "  \n",
        "    # Умножаем матрицу предикторов на вектор весов\n",
        "    predictions = np.dot(X, w)\n",
        "    \n",
        "    return predictions\n"
      ]
    },
    {
      "cell_type": "markdown",
      "metadata": {
        "id": "BU4adBrya_Zm"
      },
      "source": [
        "**Создайте функцию *stoch_grad_step* для реализации шага стохастического градиентного спуска. (1.5 балла) \n",
        "Функция должна принимать на вход следующие аргументы:**\n",
        "* матрицу *X*\n",
        "* вектора *y* и *w*\n",
        "* число *train_ind* - индекс объекта обучающей выборки (строки матрицы *X*), по которому считается изменение весов\n",
        "* число *$\\eta$* (eta) - шаг градиентного спуска\n",
        "\n",
        "Результатом будет вектор обновленных весов"
      ]
    },
    {
      "cell_type": "markdown",
      "metadata": {
        "id": "dyLY-P02DUK5"
      },
      "source": [
        "Шаг для стохастического градиентного спуска выглядит следующим образом:"
      ]
    },
    {
      "cell_type": "markdown",
      "metadata": {
        "id": "ORsAyIKNDUK5"
      },
      "source": [
        "$$\\Large w_j \\leftarrow w_j - \\frac{2\\eta}{\\ell} \\sum_{i=1}^\\ell{{x_{ij}((w_0 + w_1x_{i1} + w_2x_{i2} +  w_3x_{i3}) - y_i)}}$$"
      ]
    },
    {
      "cell_type": "markdown",
      "metadata": {
        "id": "CQl2FrpuDUK6"
      },
      "source": [
        "Для того, чтобы написать функцию, нужно сделать следующее:\n",
        "    \n",
        "*  посчитать направление изменения: умножить объект обучающей выборки на 2 и на разницу между предсказанным значением и реальным, а потом поделить на количество элементов в выборке.\n",
        "* вернуть разницу между вектором весов и направлением изменения, умноженным на шаг градиентного спуска"
      ]
    },
    {
      "cell_type": "code",
      "execution_count": 227,
      "metadata": {
        "id": "YUhVQGsja_Zn"
      },
      "outputs": [],
      "source": [
        "def stoch_grad_step(X, y, w, train_ind, eta):\n",
        "   \n",
        "    # Получаем признаки объекта обучающей выборки\n",
        "    x_i = X[train_ind]\n",
        "    \n",
        "    # Предсказываем значение для объекта обучающей выборки\n",
        "    prediction = np.dot(x_i, w)\n",
        "    \n",
        "    # Вычисляем направление изменения весов\n",
        "    direction = 2 * x_i * (prediction - y[train_ind]) / len(y)\n",
        "    \n",
        "    # Обновляем веса\n",
        "    w_updated = w - eta * direction\n",
        "    \n",
        "    return w_updated\n",
        "\n"
      ]
    },
    {
      "cell_type": "markdown",
      "metadata": {
        "id": "pXwIFd0Ma_Zx"
      },
      "source": [
        "**Создайте функцию *stochastic_gradient_descent*, для реализации стохастического градиентного спуска (2.5 балла)**\n",
        "\n",
        "**Функция принимает на вход следующие аргументы:**\n",
        "- Матрицу признаков X\n",
        "- Целевую переменнную\n",
        "- Изначальную точку (веса модели)\n",
        "- Параметр, определяющий темп обучения\n",
        "- Максимальное число итераций\n",
        "- Евклидово расстояние между векторами весов на соседних итерациях градиентного спуска,при котором алгоритм прекращает работу \n",
        "\n",
        "**На каждой итерации в вектор (список) должно записываться текущее значение среднеквадратичной ошибки. Функция должна возвращать вектор весов $w$, а также вектор (список) ошибок.**"
      ]
    },
    {
      "cell_type": "markdown",
      "metadata": {
        "id": "ZVeoNF1JDUK7"
      },
      "source": [
        "Алгоритм сследующий:\n",
        "    \n",
        "* Инициализируйте расстояние между векторами весов на соседних итерациях большим числом (можно бесконечностью)\n",
        "* Создайте пустой список для фиксации ошибок\n",
        "* Создайте счетчик итераций\n",
        "* Реализуйте оновной цикл обучения пока расстояние между векторами весов больше того, при котором надо прекратить работу (когда расстояния станут слишком маленькими - значит, мы застряли в одном месте) и количество итераций меньше максимально разрешенного: сгенерируйте случайный индекс, запишите текущую ошибку в вектор ошибок, запишите в переменную текущий шаг стохастического спуска с использованием функции, написанной ранее. Далее рассчитайте текущее расстояние между векторами весов и прибавьте к счетчику итераций 1.\n",
        "* Верните вектор весов и вектор ошибок"
      ]
    },
    {
      "cell_type": "code",
      "execution_count": 236,
      "metadata": {
        "id": "CD_xcFNfa_Zy"
      },
      "outputs": [
        {
          "name": "stdout",
          "output_type": "stream",
          "text": [
            "Обученные веса (learning_rate = 0.001): [0.00200651 0.07522962 0.06770687 0.05935291]\n"
          ]
        }
      ],
      "source": [
        "# ваш код\n",
        "def stochastic_gradient_descent(X, y, initial_weights, learning_rate, max_iterations, tol):\n",
        "    \n",
        "    # Реализует стохастический градиентный спуск для линейной регрессии.\n",
        "\n",
        "    # Параметры:\n",
        "    # X (array_like): Матрица предикторов размерности (m, n), где m - количество наблюдений, n - количество признаков.\n",
        "    # y (array_like): Вектор реальных значений размерности (m,).\n",
        "    # initial_weights (array_like): Вектор начальных весов размерности (n,).\n",
        "    # learning_rate (float): Шаг градиентного спуска.\n",
        "    # max_iterations (int): Максимальное число итераций.\n",
        "    # tol (float): Евклидово расстояние между векторами весов на соседних итерациях, при котором алгоритм прекращает работу.\n",
        "\n",
        "    # Возвращает:\n",
        "    # array_like: Вектор весов размерности (n,), обученный с использованием стохастического градиентного спуска.\n",
        "    # array_like: Вектор ошибок, содержащий значения среднеквадратичной ошибки на каждой итерации.\n",
        "    \n",
        "    # Инициализация переменных\n",
        "    weights = initial_weights\n",
        "    errors = []\n",
        "    prev_weights = np.copy(initial_weights)\n",
        "    iterations = 0\n",
        "    \n",
        "    # Главный цикл обучения\n",
        "    while iterations < max_iterations:\n",
        "        # Генерируем случайный индекс\n",
        "        train_ind = np.random.randint(0, len(X))\n",
        "        \n",
        "        # Один шаг стохастического градиентного спуска\n",
        "        weights = stoch_grad_step(X, y, weights, train_ind, learning_rate)\n",
        "        \n",
        "        # Вычисляем среднеквадратичную ошибку и добавляем ее в список\n",
        "        error = mse_error(y, lin_pred(X, weights))\n",
        "        errors.append(error)\n",
        "        \n",
        "        # Проверяем условие остановки: если расстояние между векторами весов меньше tol, выходим из цикла\n",
        "        if np.linalg.norm(weights - prev_weights) < tol:\n",
        "            break\n",
        "        \n",
        "        # Обновляем предыдущие веса\n",
        "        prev_weights = np.copy(weights)\n",
        "        \n",
        "        # Увеличиваем счетчик итераций\n",
        "        iterations += 1\n",
        "    \n",
        "    return weights, errors\n",
        "\n",
        "# Задаем вектор начальных весов (из нулей)\n",
        "initial_weights = np.zeros(X.shape[1])\n",
        "\n",
        "# Задаем параметры обучения\n",
        "learning_rate_1 = 0.01\n",
        "learning_rate_2 = 0.001\n",
        "max_iterations = 10**5\n",
        "tol = 1e-5\n",
        "\n",
        "\n",
        "\n",
        "final_weights, errors = stochastic_gradient_descent(X, y, initial_weights, learning_rate_2, max_iterations, tol)\n",
        "\n",
        "# Выводим результаты\n",
        "\n",
        "print(\"Обученные веса (learning_rate = 0.001):\", final_weights)"
      ]
    },
    {
      "cell_type": "markdown",
      "metadata": {
        "id": "0OqHO1Rta_Z7"
      },
      "source": [
        " **Запустите $10^5$ итераций стохастического градиентного спуска. Укажите вектор начальных весов, состоящий из нулей. Можете поэкспериментировать с параметром, отвечающим за темп обучения.**"
      ]
    },
    {
      "cell_type": "markdown",
      "metadata": {
        "id": "N6fHHT6vDUK8"
      },
      "source": [
        "**Постройте график зависимости ошибки от номера итерации**"
      ]
    },
    {
      "cell_type": "code",
      "execution_count": 239,
      "metadata": {},
      "outputs": [
        {
          "data": {
            "image/png": "[encoded data removed]",
            "text/plain": [
              "<Figure size 1000x600 with 1 Axes>"
            ]
          },
          "metadata": {},
          "output_type": "display_data"
        }
      ],
      "source": [
        "# Построение графика для learning_rate = 0.001 с логарифмической шкалой по оси Y\n",
        "plt.figure(figsize=(10, 6))\n",
        "plt.plot(range(len(errors)), errors, label='Learning Rate = 0.001', color='red')\n",
        "# plt.yscale('log')  # Логарифмическая шкала по оси Y\n",
        "plt.xlabel('Номер итерации')\n",
        "plt.ylabel('Среднеквадратичная ошибка')\n",
        "plt.title('Зависимость ошибки от номера итерации (Learning Rate = 0.001)')\n",
        "plt.legend()\n",
        "plt.grid(True)\n",
        "plt.show()\n"
      ]
    },
    {
      "cell_type": "markdown",
      "metadata": {
        "id": "O-MVOcJ6a_aY"
      },
      "source": [
        "**Выведите вектор весов, к которому сошелся метод.**"
      ]
    },
    {
      "cell_type": "code",
      "execution_count": null,
      "metadata": {
        "id": "MPjVkXe4DUK9"
      },
      "outputs": [],
      "source": [
        "# ваш код\n",
        "final_weights"
      ]
    },
    {
      "cell_type": "markdown",
      "metadata": {
        "id": "qabzMc3Qa_a5"
      },
      "source": [
        "**Выведите среднеквадратичную ошибку на последней итерации.**"
      ]
    },
    {
      "cell_type": "code",
      "execution_count": 240,
      "metadata": {
        "id": "7tPWleMIa_a7"
      },
      "outputs": [
        {
          "name": "stdout",
          "output_type": "stream",
          "text": [
            "Среднеквадратичная ошибка на последней итерации (Learning Rate = 0.001): 74.01086638660156\n"
          ]
        }
      ],
      "source": [
        "# ваш код\n",
        "mse_last_iteration = errors[-1]\n",
        "print(\"Среднеквадратичная ошибка на последней итерации (Learning Rate = 0.001):\", mse_last_iteration)\n"
      ]
    }
  ],
  "metadata": {
    "colab": {
      "collapsed_sections": [],
      "name": "Практика_Оптимизация.ipynb",
      "provenance": [],
      "toc_visible": true
    },
    "kernelspec": {
      "display_name": "Python 3 (ipykernel)",
      "language": "python",
      "name": "python3"
    },
    "language_info": {
      "codemirror_mode": {
        "name": "ipython",
        "version": 3
      },
      "file_extension": ".py",
      "mimetype": "text/x-python",
      "name": "python",
      "nbconvert_exporter": "python",
      "pygments_lexer": "ipython3",
      "version": "3.11.1"
    }
  },
  "nbformat": 4,
  "nbformat_minor": 0
}
